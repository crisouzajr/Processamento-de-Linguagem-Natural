{
  "nbformat": 4,
  "nbformat_minor": 0,
  "metadata": {
    "colab": {
      "name": "Conhecendo NLTK em string.ipynb",
      "provenance": [],
      "collapsed_sections": []
    },
    "kernelspec": {
      "name": "python3",
      "display_name": "Python 3"
    },
    "language_info": {
      "name": "python"
    }
  },
  "cells": [
    {
      "cell_type": "code",
      "metadata": {
        "id": "caHugpWRW1bX"
      },
      "source": [
        "'''Utilizar a string abaixo para execução dos códigos para Processamento de Linguagem Natural'''\n",
        "\n",
        "text = \"Hello Mr. Smith, how are you doing today? The weather is great, and city is awesome. The sky is pinkish-blue. You shouldn't eat cardboard\""
      ],
      "execution_count": 1,
      "outputs": []
    },
    {
      "cell_type": "code",
      "metadata": {
        "colab": {
          "base_uri": "https://localhost:8080/"
        },
        "id": "OfEQlQ7wWKga",
        "outputId": "b814ef72-effc-43cc-b752-9dd35e95ce4a"
      },
      "source": [
        "import nltk\n",
        "\n",
        "nltk.download('punkt')"
      ],
      "execution_count": 2,
      "outputs": [
        {
          "output_type": "stream",
          "text": [
            "[nltk_data] Downloading package punkt to /root/nltk_data...\n",
            "[nltk_data]   Unzipping tokenizers/punkt.zip.\n"
          ],
          "name": "stdout"
        },
        {
          "output_type": "execute_result",
          "data": {
            "text/plain": [
              "True"
            ]
          },
          "metadata": {
            "tags": []
          },
          "execution_count": 2
        }
      ]
    },
    {
      "cell_type": "code",
      "metadata": {
        "colab": {
          "base_uri": "https://localhost:8080/"
        },
        "id": "4TLIYiFjc4Lv",
        "outputId": "b0be3664-5db9-4c49-8024-3746d5d0ee22"
      },
      "source": [
        "'''Contabilizando a quantidade de palavras na string disponibilizada'''\n",
        "\n",
        "# concatenar as palavras\n",
        "j_p = \" \".join(s for s in text)\n",
        "\n",
        "# ver quantidade de palavras\n",
        "print(\"Quantidade de Palavras: {}\".format(len(j_p)))"
      ],
      "execution_count": 4,
      "outputs": [
        {
          "output_type": "stream",
          "text": [
            "Quantidade de Palavras: 273\n"
          ],
          "name": "stdout"
        }
      ]
    },
    {
      "cell_type": "markdown",
      "metadata": {
        "id": "2FVg2s1JXDsG"
      },
      "source": [
        "## Tokenizar por Sentença"
      ]
    },
    {
      "cell_type": "code",
      "metadata": {
        "colab": {
          "base_uri": "https://localhost:8080/"
        },
        "id": "Sn_xaJxsW0Lf",
        "outputId": "e725ec57-4e4c-44e3-9aaf-e3112ce6584e"
      },
      "source": [
        "from nltk.tokenize import sent_tokenize\n",
        "\n",
        "s_t = sent_tokenize(text)\n",
        "print(s_t)"
      ],
      "execution_count": 6,
      "outputs": [
        {
          "output_type": "stream",
          "text": [
            "['Hello Mr. Smith, how are you doing today?', 'The weather is great, and city is awesome.', 'The sky is pinkish-blue.', \"You shouldn't eat cardboard\"]\n"
          ],
          "name": "stdout"
        }
      ]
    },
    {
      "cell_type": "markdown",
      "metadata": {
        "id": "8f3ZUVUYYd9h"
      },
      "source": [
        "## Tokenizar por Palavra"
      ]
    },
    {
      "cell_type": "code",
      "metadata": {
        "colab": {
          "base_uri": "https://localhost:8080/"
        },
        "id": "UE10GtC0Yi_y",
        "outputId": "88796444-4150-446a-f32c-0fe521e3dd55"
      },
      "source": [
        "from nltk.tokenize import word_tokenize\n",
        "\n",
        "w_t = word_tokenize(text)\n",
        "print(w_t)"
      ],
      "execution_count": 7,
      "outputs": [
        {
          "output_type": "stream",
          "text": [
            "['Hello', 'Mr.', 'Smith', ',', 'how', 'are', 'you', 'doing', 'today', '?', 'The', 'weather', 'is', 'great', ',', 'and', 'city', 'is', 'awesome', '.', 'The', 'sky', 'is', 'pinkish-blue', '.', 'You', 'should', \"n't\", 'eat', 'cardboard']\n"
          ],
          "name": "stdout"
        }
      ]
    },
    {
      "cell_type": "markdown",
      "metadata": {
        "id": "viNIvbJXlvSz"
      },
      "source": [
        "## Removendo pontuação e tokenizando por palavra."
      ]
    },
    {
      "cell_type": "code",
      "metadata": {
        "colab": {
          "base_uri": "https://localhost:8080/"
        },
        "id": "Eg6YA-tflugf",
        "outputId": "2737b8e5-d8ab-43f0-d277-a688f220678c"
      },
      "source": [
        "tokenizer = nltk.RegexpTokenizer(r\"\\w+\")\n",
        "new_words = tokenizer.tokenize(text)\n",
        "\n",
        "print(new_words)"
      ],
      "execution_count": 8,
      "outputs": [
        {
          "output_type": "stream",
          "text": [
            "['Hello', 'Mr', 'Smith', 'how', 'are', 'you', 'doing', 'today', 'The', 'weather', 'is', 'great', 'and', 'city', 'is', 'awesome', 'The', 'sky', 'is', 'pinkish', 'blue', 'You', 'shouldn', 't', 'eat', 'cardboard']\n"
          ],
          "name": "stdout"
        }
      ]
    },
    {
      "cell_type": "markdown",
      "metadata": {
        "id": "1LsRwvS5Z2By"
      },
      "source": [
        "## StopWords"
      ]
    },
    {
      "cell_type": "code",
      "metadata": {
        "colab": {
          "base_uri": "https://localhost:8080/"
        },
        "id": "FfY-0ZkAZyod",
        "outputId": "33586718-a005-4acc-ce34-f7ccd7063ab9"
      },
      "source": [
        "nltk.download('stopwords')\n",
        "from nltk.corpus import stopwords"
      ],
      "execution_count": 9,
      "outputs": [
        {
          "output_type": "stream",
          "text": [
            "[nltk_data] Downloading package stopwords to /root/nltk_data...\n",
            "[nltk_data]   Unzipping corpora/stopwords.zip.\n"
          ],
          "name": "stdout"
        }
      ]
    },
    {
      "cell_type": "code",
      "metadata": {
        "colab": {
          "base_uri": "https://localhost:8080/"
        },
        "id": "i1Tv8ZMomAw2",
        "outputId": "038c4bd5-354e-4bd9-904b-fbeaebaada73"
      },
      "source": [
        "'''Chamando a lista com as stopwords em inglês e imprimindo a mesma.'''\n",
        "\n",
        "stopWords_list = list(stopwords.words('english'))\n",
        "words = new_words\n",
        "print(stopWords_list)\n",
        "print(words)"
      ],
      "execution_count": 52,
      "outputs": [
        {
          "output_type": "stream",
          "text": [
            "['i', 'me', 'my', 'myself', 'we', 'our', 'ours', 'ourselves', 'you', \"you're\", \"you've\", \"you'll\", \"you'd\", 'your', 'yours', 'yourself', 'yourselves', 'he', 'him', 'his', 'himself', 'she', \"she's\", 'her', 'hers', 'herself', 'it', \"it's\", 'its', 'itself', 'they', 'them', 'their', 'theirs', 'themselves', 'what', 'which', 'who', 'whom', 'this', 'that', \"that'll\", 'these', 'those', 'am', 'is', 'are', 'was', 'were', 'be', 'been', 'being', 'have', 'has', 'had', 'having', 'do', 'does', 'did', 'doing', 'a', 'an', 'the', 'and', 'but', 'if', 'or', 'because', 'as', 'until', 'while', 'of', 'at', 'by', 'for', 'with', 'about', 'against', 'between', 'into', 'through', 'during', 'before', 'after', 'above', 'below', 'to', 'from', 'up', 'down', 'in', 'out', 'on', 'off', 'over', 'under', 'again', 'further', 'then', 'once', 'here', 'there', 'when', 'where', 'why', 'how', 'all', 'any', 'both', 'each', 'few', 'more', 'most', 'other', 'some', 'such', 'no', 'nor', 'not', 'only', 'own', 'same', 'so', 'than', 'too', 'very', 's', 't', 'can', 'will', 'just', 'don', \"don't\", 'should', \"should've\", 'now', 'd', 'll', 'm', 'o', 're', 've', 'y', 'ain', 'aren', \"aren't\", 'couldn', \"couldn't\", 'didn', \"didn't\", 'doesn', \"doesn't\", 'hadn', \"hadn't\", 'hasn', \"hasn't\", 'haven', \"haven't\", 'isn', \"isn't\", 'ma', 'mightn', \"mightn't\", 'mustn', \"mustn't\", 'needn', \"needn't\", 'shan', \"shan't\", 'shouldn', \"shouldn't\", 'wasn', \"wasn't\", 'weren', \"weren't\", 'won', \"won't\", 'wouldn', \"wouldn't\"]\n",
            "['Hello', 'Mr', 'Smith', 'how', 'are', 'you', 'doing', 'today', 'The', 'weather', 'is', 'great', 'and', 'city', 'is', 'awesome', 'The', 'sky', 'is', 'pinkish', 'blue', 'You', 'shouldn', 't', 'eat', 'cardboard']\n"
          ],
          "name": "stdout"
        }
      ]
    },
    {
      "cell_type": "code",
      "metadata": {
        "colab": {
          "base_uri": "https://localhost:8080/"
        },
        "id": "oOyeVCYOalId",
        "outputId": "4d0c7b67-fc31-4382-8b25-9419ab8de2c5"
      },
      "source": [
        "'''Criando uma lista com as palavras sem os stopwords'''\n",
        "\n",
        "tokens_without_sw = [word for word in words if not word in stopwords.words()]\n",
        "print(tokens_without_sw)"
      ],
      "execution_count": 67,
      "outputs": [
        {
          "output_type": "stream",
          "text": [
            "['Hello', 'Mr', 'Smith', 'today', 'The', 'weather', 'great', 'city', 'awesome', 'The', 'sky', 'pinkish', 'blue', 'You', 'eat', 'cardboard']\n"
          ],
          "name": "stdout"
        }
      ]
    },
    {
      "cell_type": "markdown",
      "metadata": {
        "id": "K2prDR1brc0X"
      },
      "source": [
        "## Stemming Porter"
      ]
    },
    {
      "cell_type": "code",
      "metadata": {
        "colab": {
          "base_uri": "https://localhost:8080/"
        },
        "id": "TofxGt1NruVi",
        "outputId": "27c96bcf-8ae5-4987-adc1-363370e71d5b"
      },
      "source": [
        "from nltk.stem import PorterStemmer\n",
        "\n",
        "ps = PorterStemmer()\n",
        "for w in tokens_without_sw:\n",
        "    rootWord = ps.stem(w)\n",
        "    print(rootWord)"
      ],
      "execution_count": 68,
      "outputs": [
        {
          "output_type": "stream",
          "text": [
            "hello\n",
            "Mr\n",
            "smith\n",
            "today\n",
            "the\n",
            "weather\n",
            "great\n",
            "citi\n",
            "awesom\n",
            "the\n",
            "sky\n",
            "pinkish\n",
            "blue\n",
            "you\n",
            "eat\n",
            "cardboard\n"
          ],
          "name": "stdout"
        }
      ]
    },
    {
      "cell_type": "markdown",
      "metadata": {
        "id": "sQLau0bjrafr"
      },
      "source": [
        "## Lemetização"
      ]
    },
    {
      "cell_type": "code",
      "metadata": {
        "colab": {
          "base_uri": "https://localhost:8080/"
        },
        "id": "t2dVvSS8tqzP",
        "outputId": "a3265ec3-fabf-4714-fa06-da611834998e"
      },
      "source": [
        "import nltk\n",
        "nltk.download('wordnet')\n",
        "nltk.download('averaged_perceptron_tagger')\n",
        "from nltk.corpus import wordnet as wn\n",
        "from nltk.stem.wordnet import WordNetLemmatizer\n",
        "from nltk import word_tokenize, pos_tag\n",
        "from collections import defaultdict"
      ],
      "execution_count": 69,
      "outputs": [
        {
          "output_type": "stream",
          "text": [
            "[nltk_data] Downloading package wordnet to /root/nltk_data...\n",
            "[nltk_data]   Package wordnet is already up-to-date!\n",
            "[nltk_data] Downloading package averaged_perceptron_tagger to\n",
            "[nltk_data]     /root/nltk_data...\n",
            "[nltk_data]   Package averaged_perceptron_tagger is already up-to-\n",
            "[nltk_data]       date!\n"
          ],
          "name": "stdout"
        }
      ]
    },
    {
      "cell_type": "code",
      "metadata": {
        "colab": {
          "base_uri": "https://localhost:8080/"
        },
        "id": "Vt3P4OsXwjX1",
        "outputId": "d91c253b-bbb2-4c78-8ca4-979cdd44f726"
      },
      "source": [
        "tag_map = defaultdict(lambda : wn.NOUN)\n",
        "tag_map['J'] = wn.ADJ\n",
        "tag_map['V'] = wn.VERB\n",
        "tag_map['R'] = wn.ADV\n",
        "\t\n",
        "lemma_function = WordNetLemmatizer()\n",
        "for token, tag in pos_tag(tokens_without_sw):\n",
        "\t\tlemma = lemma_function.lemmatize(token, tag_map[tag[0]])\n",
        "\t\tprint(token, \"=>\", lemma)"
      ],
      "execution_count": 71,
      "outputs": [
        {
          "output_type": "stream",
          "text": [
            "Hello => Hello\n",
            "Mr => Mr\n",
            "Smith => Smith\n",
            "today => today\n",
            "The => The\n",
            "weather => weather\n",
            "great => great\n",
            "city => city\n",
            "awesome => awesome\n",
            "The => The\n",
            "sky => sky\n",
            "pinkish => pinkish\n",
            "blue => blue\n",
            "You => You\n",
            "eat => eat\n",
            "cardboard => cardboard\n"
          ],
          "name": "stdout"
        }
      ]
    },
    {
      "cell_type": "markdown",
      "metadata": {
        "id": "S58NlmD05hvL"
      },
      "source": [
        "## Postag"
      ]
    },
    {
      "cell_type": "code",
      "metadata": {
        "colab": {
          "base_uri": "https://localhost:8080/"
        },
        "id": "G7fngaGl680H",
        "outputId": "07b7ab9e-ac16-4892-e3e4-2c98f7ca65d3"
      },
      "source": [
        "tag = nltk.pos_tag(tokens_without_sw)\n",
        "print(tag)"
      ],
      "execution_count": 74,
      "outputs": [
        {
          "output_type": "stream",
          "text": [
            "[('Hello', 'NNP'), ('Mr', 'NNP'), ('Smith', 'NNP'), ('today', 'NN'), ('The', 'DT'), ('weather', 'NN'), ('great', 'JJ'), ('city', 'NN'), ('awesome', 'VBP'), ('The', 'DT'), ('sky', 'NN'), ('pinkish', 'JJ'), ('blue', 'NN'), ('You', 'PRP'), ('eat', 'VBP'), ('cardboard', 'JJ')]\n"
          ],
          "name": "stdout"
        }
      ]
    },
    {
      "cell_type": "code",
      "metadata": {
        "colab": {
          "base_uri": "https://localhost:8080/"
        },
        "id": "CAwLeYQDtrQk",
        "outputId": "272d4b56-f20b-4552-b90c-3e6bd1344084"
      },
      "source": [
        "grammar = \"NP: {<DT>?<JJ>*<NN>}\"\n",
        "cp  =nltk.RegexpParser(grammar)\n",
        "result = cp.parse(tag)\n",
        "print(result)\n",
        "# result.draw() "
      ],
      "execution_count": 75,
      "outputs": [
        {
          "output_type": "stream",
          "text": [
            "(S\n",
            "  Hello/NNP\n",
            "  Mr/NNP\n",
            "  Smith/NNP\n",
            "  (NP today/NN)\n",
            "  (NP The/DT weather/NN)\n",
            "  (NP great/JJ city/NN)\n",
            "  awesome/VBP\n",
            "  (NP The/DT sky/NN)\n",
            "  (NP pinkish/JJ blue/NN)\n",
            "  You/PRP\n",
            "  eat/VBP\n",
            "  cardboard/JJ)\n"
          ],
          "name": "stdout"
        }
      ]
    },
    {
      "cell_type": "markdown",
      "metadata": {
        "id": "LkqP9LzU7Ocb"
      },
      "source": [
        "## Gráfico de Frequência de palavras"
      ]
    },
    {
      "cell_type": "code",
      "metadata": {
        "colab": {
          "base_uri": "https://localhost:8080/"
        },
        "id": "3Hartz9j9G3c",
        "outputId": "0ee70d1a-802a-4899-9f28-3bf4f2db78c6"
      },
      "source": [
        "from nltk.probability import FreqDist\n",
        "\n",
        "FreqDist(tokens_without_sw)"
      ],
      "execution_count": 82,
      "outputs": [
        {
          "output_type": "execute_result",
          "data": {
            "text/plain": [
              "FreqDist({'Hello': 1,\n",
              "          'Mr': 1,\n",
              "          'Smith': 1,\n",
              "          'The': 2,\n",
              "          'You': 1,\n",
              "          'awesome': 1,\n",
              "          'blue': 1,\n",
              "          'cardboard': 1,\n",
              "          'city': 1,\n",
              "          'eat': 1,\n",
              "          'great': 1,\n",
              "          'pinkish': 1,\n",
              "          'sky': 1,\n",
              "          'today': 1,\n",
              "          'weather': 1})"
            ]
          },
          "metadata": {
            "tags": []
          },
          "execution_count": 82
        }
      ]
    },
    {
      "cell_type": "code",
      "metadata": {
        "colab": {
          "base_uri": "https://localhost:8080/",
          "height": 616
        },
        "id": "ufkiypLQ8JaK",
        "outputId": "96ac0c3f-2a22-4a53-d7e8-0469bf8dfd4b"
      },
      "source": [
        "import pandas as pd\n",
        "import matplotlib.pyplot as plt\n",
        "import seaborn as sns\n",
        "\n",
        "## Creating FreqDist for whole BoW, keeping the 20 most common tokens\n",
        "all_fdist = FreqDist(tokens_without_sw).most_common(20)\n",
        "\n",
        "## Conversion to Pandas series via Python Dictionary for easier plotting\n",
        "all_fdist = pd.Series(dict(all_fdist))\n",
        "\n",
        "## Setting figure, ax into variables\n",
        "fig, ax = plt.subplots(figsize=(10,10))\n",
        "\n",
        "## Seaborn plotting using Pandas attributes + xtick rotation for ease of viewing\n",
        "all_plot = sns.barplot(x=all_fdist.index, y=all_fdist.values, ax=ax)\n",
        "plt.xticks(rotation=30);"
      ],
      "execution_count": 86,
      "outputs": [
        {
          "output_type": "display_data",
          "data": {
            "image/png": "[encoded data removed]",
            "text/plain": [
              "<Figure size 720x720 with 1 Axes>"
            ]
          },
          "metadata": {
            "tags": [],
            "needs_background": "light"
          }
        }
      ]
    }
  ]
}